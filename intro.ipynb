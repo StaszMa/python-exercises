{
  "nbformat": 4,
  "nbformat_minor": 0,
  "metadata": {
    "colab": {
      "name": "intro.ipynb",
      "provenance": [],
      "collapsed_sections": [],
      "toc_visible": true,
      "authorship_tag": "ABX9TyPDffPVtmgjXFvcj7aF4Z8Y",
      "include_colab_link": true
    },
    "kernelspec": {
      "name": "python3",
      "display_name": "Python 3"
    }
  },
  "cells": [
    {
      "cell_type": "markdown",
      "metadata": {
        "id": "view-in-github",
        "colab_type": "text"
      },
      "source": [
        "<a href=\"https://colab.research.google.com/github/StaszMa/python-exercises/blob/master/intro.ipynb\" target=\"_parent\"><img src=\"https://colab.research.google.com/assets/colab-badge.svg\" alt=\"Open In Colab\"/></a>"
      ]
    },
    {
      "cell_type": "code",
      "metadata": {
        "id": "EupjNYicJ6uA",
        "colab_type": "code",
        "colab": {
          "base_uri": "https://localhost:8080/",
          "height": 34
        },
        "outputId": "9d871859-b2d2-4d4e-e6b3-d4401ff39ac0"
      },
      "source": [
        "print('Hello colab!')"
      ],
      "execution_count": null,
      "outputs": [
        {
          "output_type": "stream",
          "text": [
            "Hello colab!\n"
          ],
          "name": "stdout"
        }
      ]
    },
    {
      "cell_type": "markdown",
      "metadata": {
        "id": "JDVEXT1QKpbn",
        "colab_type": "text"
      },
      "source": [
        "# Nowa sekcja"
      ]
    },
    {
      "cell_type": "markdown",
      "metadata": {
        "id": "zP9IM3g1KfA8",
        "colab_type": "text"
      },
      "source": [
        "## Print"
      ]
    },
    {
      "cell_type": "markdown",
      "metadata": {
        "id": "AHa5SniPUTMF",
        "colab_type": "text"
      },
      "source": [
        "### 1"
      ]
    },
    {
      "cell_type": "code",
      "metadata": {
        "id": "2wHrLrslKd6k",
        "colab_type": "code",
        "colab": {
          "base_uri": "https://localhost:8080/",
          "height": 34
        },
        "outputId": "2e0c03ac-637b-4f72-bd1a-009cdac3027a"
      },
      "source": [
        "print('Ucz się Pythona!')"
      ],
      "execution_count": 1,
      "outputs": [
        {
          "output_type": "stream",
          "text": [
            "Ucz się Pythona!\n"
          ],
          "name": "stdout"
        }
      ]
    },
    {
      "cell_type": "markdown",
      "metadata": {
        "id": "tBsZERhkUnIy",
        "colab_type": "text"
      },
      "source": [
        "###2"
      ]
    },
    {
      "cell_type": "code",
      "metadata": {
        "id": "qxUhLY3UUp5p",
        "colab_type": "code",
        "colab": {
          "base_uri": "https://localhost:8080/",
          "height": 34
        },
        "outputId": "1029d7cb-2e90-476a-d823-daff1e09050a"
      },
      "source": [
        "age = 20\n",
        "print('Mam ' + str(age) + ' lat')"
      ],
      "execution_count": 3,
      "outputs": [
        {
          "output_type": "stream",
          "text": [
            "Mam 20 lat\n"
          ],
          "name": "stdout"
        }
      ]
    },
    {
      "cell_type": "code",
      "metadata": {
        "id": "pfuS_nv0a8Gk",
        "colab_type": "code",
        "colab": {
          "base_uri": "https://localhost:8080/",
          "height": 34
        },
        "outputId": "3d3b8a33-e382-4ab3-dc1a-db34088972a1"
      },
      "source": [
        "age = 20\n",
        "print('Mam {} lat'. format(age))"
      ],
      "execution_count": 4,
      "outputs": [
        {
          "output_type": "stream",
          "text": [
            "Mam 20 lat\n"
          ],
          "name": "stdout"
        }
      ]
    },
    {
      "cell_type": "markdown",
      "metadata": {
        "id": "BEXY7phsbqzv",
        "colab_type": "text"
      },
      "source": [
        "tu lepszy sposób z funkcja f'string "
      ]
    },
    {
      "cell_type": "code",
      "metadata": {
        "id": "wfeoFhRrbc84",
        "colab_type": "code",
        "colab": {
          "base_uri": "https://localhost:8080/",
          "height": 34
        },
        "outputId": "bf1b7f9f-d681-4e23-9514-2e17c323af5b"
      },
      "source": [
        "age = 20\n",
        "print(f'Mam {age} lat')"
      ],
      "execution_count": 5,
      "outputs": [
        {
          "output_type": "stream",
          "text": [
            "Mam 20 lat\n"
          ],
          "name": "stdout"
        }
      ]
    }
  ]
}