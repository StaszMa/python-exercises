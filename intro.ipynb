{
  "nbformat": 4,
  "nbformat_minor": 0,
  "metadata": {
    "colab": {
      "name": "intro.ipynb",
      "provenance": [],
      "collapsed_sections": [],
      "toc_visible": true,
      "authorship_tag": "ABX9TyP3cYxK4kxKwacGzpXrSDDI",
      "include_colab_link": true
    },
    "kernelspec": {
      "name": "python3",
      "display_name": "Python 3"
    }
  },
  "cells": [
    {
      "cell_type": "markdown",
      "metadata": {
        "id": "view-in-github",
        "colab_type": "text"
      },
      "source": [
        "<a href=\"https://colab.research.google.com/github/StaszMa/python-exercises/blob/master/intro.ipynb\" target=\"_parent\"><img src=\"https://colab.research.google.com/assets/colab-badge.svg\" alt=\"Open In Colab\"/></a>"
      ]
    },
    {
      "cell_type": "code",
      "metadata": {
        "id": "EupjNYicJ6uA",
        "colab_type": "code",
        "colab": {
          "base_uri": "https://localhost:8080/",
          "height": 34
        },
        "outputId": "9d871859-b2d2-4d4e-e6b3-d4401ff39ac0"
      },
      "source": [
        "print('Hello colab!')"
      ],
      "execution_count": null,
      "outputs": [
        {
          "output_type": "stream",
          "text": [
            "Hello colab!\n"
          ],
          "name": "stdout"
        }
      ]
    },
    {
      "cell_type": "markdown",
      "metadata": {
        "id": "zP9IM3g1KfA8",
        "colab_type": "text"
      },
      "source": [
        "## Print"
      ]
    },
    {
      "cell_type": "markdown",
      "metadata": {
        "id": "AHa5SniPUTMF",
        "colab_type": "text"
      },
      "source": [
        "### 1"
      ]
    },
    {
      "cell_type": "code",
      "metadata": {
        "id": "2wHrLrslKd6k",
        "colab_type": "code",
        "colab": {
          "base_uri": "https://localhost:8080/",
          "height": 34
        },
        "outputId": "2e0c03ac-637b-4f72-bd1a-009cdac3027a"
      },
      "source": [
        "print('Ucz się Pythona!')"
      ],
      "execution_count": null,
      "outputs": [
        {
          "output_type": "stream",
          "text": [
            "Ucz się Pythona!\n"
          ],
          "name": "stdout"
        }
      ]
    },
    {
      "cell_type": "markdown",
      "metadata": {
        "id": "tBsZERhkUnIy",
        "colab_type": "text"
      },
      "source": [
        "###2"
      ]
    },
    {
      "cell_type": "code",
      "metadata": {
        "id": "qxUhLY3UUp5p",
        "colab_type": "code",
        "colab": {
          "base_uri": "https://localhost:8080/",
          "height": 34
        },
        "outputId": "1029d7cb-2e90-476a-d823-daff1e09050a"
      },
      "source": [
        "age = 20\n",
        "print('Mam ' + str(age) + ' lat')"
      ],
      "execution_count": null,
      "outputs": [
        {
          "output_type": "stream",
          "text": [
            "Mam 20 lat\n"
          ],
          "name": "stdout"
        }
      ]
    },
    {
      "cell_type": "code",
      "metadata": {
        "id": "pfuS_nv0a8Gk",
        "colab_type": "code",
        "colab": {
          "base_uri": "https://localhost:8080/",
          "height": 34
        },
        "outputId": "3d3b8a33-e382-4ab3-dc1a-db34088972a1"
      },
      "source": [
        "age = 20\n",
        "print('Mam {} lat'. format(age))"
      ],
      "execution_count": null,
      "outputs": [
        {
          "output_type": "stream",
          "text": [
            "Mam 20 lat\n"
          ],
          "name": "stdout"
        }
      ]
    },
    {
      "cell_type": "markdown",
      "metadata": {
        "id": "BEXY7phsbqzv",
        "colab_type": "text"
      },
      "source": [
        "tu lepszy sposób z funkcja f'string "
      ]
    },
    {
      "cell_type": "code",
      "metadata": {
        "id": "wfeoFhRrbc84",
        "colab_type": "code",
        "colab": {
          "base_uri": "https://localhost:8080/",
          "height": 34
        },
        "outputId": "bf1b7f9f-d681-4e23-9514-2e17c323af5b"
      },
      "source": [
        "age = 20\n",
        "print(f'Mam {age} lat')"
      ],
      "execution_count": null,
      "outputs": [
        {
          "output_type": "stream",
          "text": [
            "Mam 20 lat\n"
          ],
          "name": "stdout"
        }
      ]
    },
    {
      "cell_type": "markdown",
      "metadata": {
        "id": "nBbFvN8_T-oN",
        "colab_type": "text"
      },
      "source": [
        "### 3"
      ]
    },
    {
      "cell_type": "code",
      "metadata": {
        "id": "U4cgs5zYUBBY",
        "colab_type": "code",
        "colab": {
          "base_uri": "https://localhost:8080/",
          "height": 34
        },
        "outputId": "1b7cead7-416a-4ea1-f108-f4ccb6844ad0"
      },
      "source": [
        "x  = 'Python'\n",
        "y = '3.8'\n",
        "\n",
        "print(f'Uczę się języka {x} w wersji {y}')"
      ],
      "execution_count": 1,
      "outputs": [
        {
          "output_type": "stream",
          "text": [
            "Uczę się języka Python w wersji 3.8\n"
          ],
          "name": "stdout"
        }
      ]
    },
    {
      "cell_type": "markdown",
      "metadata": {
        "id": "PMOXjwflUhGD",
        "colab_type": "text"
      },
      "source": [
        "### 4\n"
      ]
    },
    {
      "cell_type": "code",
      "metadata": {
        "id": "SIyCaTMNUstZ",
        "colab_type": "code",
        "colab": {
          "base_uri": "https://localhost:8080/",
          "height": 34
        },
        "outputId": "7cba462f-d7e2-46ac-90ae-1897d87ed923"
      },
      "source": [
        "# przypisz poniżej do zmiennej price cenę 199.99\n",
        "\n",
        "price = 199.99\n",
        "print('Towar kosztuje', price)\n"
      ],
      "execution_count": 2,
      "outputs": [
        {
          "output_type": "stream",
          "text": [
            "Towar kosztuje 199.99\n"
          ],
          "name": "stdout"
        }
      ]
    },
    {
      "cell_type": "markdown",
      "metadata": {
        "id": "GHpzrDObU4Xc",
        "colab_type": "text"
      },
      "source": [
        "### 5\n"
      ]
    },
    {
      "cell_type": "code",
      "metadata": {
        "id": "6wt0UgjJU_YT",
        "colab_type": "code",
        "colab": {
          "base_uri": "https://localhost:8080/",
          "height": 34
        },
        "outputId": "986af708-0255-45a7-9fb8-04847819f773"
      },
      "source": [
        "# przypisz poniżej do zmiennej price cenę 69.99\n",
        "price  = 69.99\n",
        "print(f'Towar kosztuje {price}.')"
      ],
      "execution_count": 3,
      "outputs": [
        {
          "output_type": "stream",
          "text": [
            "Towar kosztuje 69.99.\n"
          ],
          "name": "stdout"
        }
      ]
    },
    {
      "cell_type": "markdown",
      "metadata": {
        "id": "rA44EsA4VPNd",
        "colab_type": "text"
      },
      "source": [
        "### 6"
      ]
    },
    {
      "cell_type": "code",
      "metadata": {
        "id": "XeIjHc-3VR-3",
        "colab_type": "code",
        "colab": {
          "base_uri": "https://localhost:8080/",
          "height": 34
        },
        "outputId": "f6cb7555-7232-4369-feb6-fd9e8d2c6d97"
      },
      "source": [
        "# deklaracja zmiennych\n",
        "price = 34.99\n",
        "weight = 10\n",
        "\n",
        "# wydrukowanie tekstu do konsoli\n",
        "print(f'Cena: {price} PLN. Waga: {weight} kg')"
      ],
      "execution_count": 4,
      "outputs": [
        {
          "output_type": "stream",
          "text": [
            "Cena: 34.99 PLN. Waga: 10 kg\n"
          ],
          "name": "stdout"
        }
      ]
    },
    {
      "cell_type": "markdown",
      "metadata": {
        "id": "caSQjLqoVtRj",
        "colab_type": "text"
      },
      "source": [
        "### 7"
      ]
    },
    {
      "cell_type": "code",
      "metadata": {
        "id": "xBu44XHHVv5H",
        "colab_type": "code",
        "colab": {
          "base_uri": "https://localhost:8080/",
          "height": 34
        },
        "outputId": "4336f72b-78cd-43f8-e78c-2277f30d909c"
      },
      "source": [
        "# poniżej zdefiniowane jest przybliżenie liczby pi\n",
        "pi = 3.1415926535\n",
        "\n",
        "# używając formatowania f-string wydrukuj przybliżenie\n",
        "# liczby pi do drugiego miejsca po przecinku\n",
        "print(f'Przybliżenie liczby pi do części dziesiętnych: {pi:.2f}')\n"
      ],
      "execution_count": 18,
      "outputs": [
        {
          "output_type": "stream",
          "text": [
            "Przybliżenie liczby pi do części dziesiętnych:  3.14\n"
          ],
          "name": "stdout"
        }
      ]
    },
    {
      "cell_type": "markdown",
      "metadata": {
        "id": "eGGC7ByCaeC-",
        "colab_type": "text"
      },
      "source": [
        "### 8\n"
      ]
    },
    {
      "cell_type": "code",
      "metadata": {
        "id": "YvHXeHveagH1",
        "colab_type": "code",
        "colab": {
          "base_uri": "https://localhost:8080/",
          "height": 68
        },
        "outputId": "38c0eb76-b8d5-4cbc-877a-9c3b148f28ad"
      },
      "source": [
        "print('-' * 40)\n",
        "print('WERSJA: 1.0.1')\n",
        "print('-' * 40)"
      ],
      "execution_count": 25,
      "outputs": [
        {
          "output_type": "stream",
          "text": [
            "----------------------------------------\n",
            "WERSJA: 1.0.1\n",
            "----------------------------------------\n"
          ],
          "name": "stdout"
        }
      ]
    },
    {
      "cell_type": "markdown",
      "metadata": {
        "id": "xm8Tw4SNba3z",
        "colab_type": "text"
      },
      "source": [
        "### 9\n"
      ]
    },
    {
      "cell_type": "code",
      "metadata": {
        "id": "1d58FNTMbda_",
        "colab_type": "code",
        "colab": {
          "base_uri": "https://localhost:8080/",
          "height": 85
        },
        "outputId": "19eaeeea-0552-4ffe-e229-723745af8031"
      },
      "source": [
        "print('=' * 40)\n",
        "print('autor: jannowak@poczta.com')\n",
        "print('data: 01-01-2021')\n",
        "print('=' * 40)"
      ],
      "execution_count": 28,
      "outputs": [
        {
          "output_type": "stream",
          "text": [
            "========================================\n",
            "autor: jannowak@poczta.com\n",
            "data: 01-01-2021\n",
            "========================================\n"
          ],
          "name": "stdout"
        }
      ]
    },
    {
      "cell_type": "markdown",
      "metadata": {
        "id": "n424cA7sdU6h",
        "colab_type": "text"
      },
      "source": [
        "### 10"
      ]
    },
    {
      "cell_type": "code",
      "metadata": {
        "id": "daSU8BW_dWf7",
        "colab_type": "code",
        "colab": {
          "base_uri": "https://localhost:8080/",
          "height": 34
        },
        "outputId": "575a44ff-357e-4c7b-d476-5f95001649a8"
      },
      "source": [
        "print('summer', 'time', 'holiday', sep = '#')"
      ],
      "execution_count": 32,
      "outputs": [
        {
          "output_type": "stream",
          "text": [
            "summer#time#holiday\n"
          ],
          "name": "stdout"
        }
      ]
    }
  ]
}